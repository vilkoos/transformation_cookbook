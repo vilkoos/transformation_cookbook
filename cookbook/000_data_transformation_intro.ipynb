{
 "cells": [
  {
   "cell_type": "markdown",
   "metadata": {},
   "source": [
    "# Transformation cookbook\n",
    "\n",
    "This cookbook shows how to do data transformation in Python.\n",
    "\n",
    "[Data transformation](http://r4ds.had.co.nz/transform.html) is one of the steps in the data science process.  \n",
    "Wickham [1] visualizes that process with this figure:\n",
    "\n",
    "![data-science-explore.png](./art/data-science-explore.png)\n",
    "\n",
    "The transformation step starts with one or more tidy tables.   \n",
    "Tidy [2] means that we work with quality data (i.e. there are no data-problems present in our tables, we can use the tables safely).  \n",
    "Appendix 1 looks at tidy data concept in depth. "
   ]
  },
  {
   "cell_type": "markdown",
   "metadata": {},
   "source": [
    "We start with tidy tables, so the hard work of acquiring, cleaning, integrating and relating the data is already done.  \n",
    "In the transformation phase we do not add new information neither do we undo the tidy-table-form.  \n",
    "We only: **select and reorder** the rows and columns, and **convert values** into a form that is more convenient. \n",
    "\n",
    "There is only a limited set of changes we can make.\n",
    "1. Handle null values (either drop rows with na-values or impute them)\n",
    "2. Select the rows and columns we need (slicing and dicing)\n",
    "3. Reorder rows or columns\n",
    "4. Aggregate data (work with groups of rows instead of single rows)\n",
    "5. Join tables\n",
    "6. Merge tables\n",
    "7. Add columns that are filled with derived values  \n",
    "(e.g add a column birth-year and fill it with the year that we find in birth-date)\n",
    "\n",
    "The Python package Pandas [3][4][5] offers all the tools we need to perform these transformations.  \n",
    "This cookbook will rely heavily on the use of Pandas. \n",
    "\n",
    "Those familiar with the SQL, will probably prefer SQL to do 2,3,4, 5 and 6.  \n",
    "This cookbook will show how this can be done easily with [pandasql](http://blog.yhat.com/posts/pandasql-intro.html) [6]  \n",
    "Appendix 2: answers the question why we would prefer to use SQL."
   ]
  },
  {
   "cell_type": "markdown",
   "metadata": {},
   "source": [
    "# Contents\n",
    "\n",
    "================ pre-requisites ===================================\n",
    "- 101 - Pandas [Dataframe fundamentals](101_Pandas_Dataframe_fundamentals.ipynb)\n",
    "- 102 - useful [functions and properties](102 - important functions and properties.ipynb) \n",
    "- 110 - How to read data from file\n",
    "\n",
    "================ transformations =================================\n",
    "- 200 - How to handle null values\n",
    "- 300 - How to select rows and columns\n",
    "- 400 - How to order rows and columns\n",
    "- 500 - How to work with groups of rows\n",
    "- 600 - How to join tables (join on columns)\n",
    "- 650 - How to merge tables (join on rows)\n",
    "- 700 - How to add columns with derived data\n",
    "- 710 - How to enforce order for ordinal variables\n",
    "- 720 - How to convert from numerical to ordinal\n",
    "- 730 - How to do brute force derivation (guilty pleasures)\n",
    "\n",
    "================ post-requisites ===================================\n",
    "- 900 - How to save transformed data to file\n",
    "\n"
   ]
  },
  {
   "cell_type": "markdown",
   "metadata": {
    "collapsed": true
   },
   "source": [
    "# Appendici\n",
    "\n",
    "- [apdx01](apdx01_Tidy_data_V_normalization.ipynb) - Tidy tables versus data normalization\n",
    "- [apdx02]() - why use SQL?\n",
    "- apdx03 - an introduction to boolean logic using SQL examples\n",
    "- apdx04 - an introduction to set theory using SQL examples"
   ]
  },
  {
   "cell_type": "markdown",
   "metadata": {},
   "source": [
    "# References \n",
    "\n",
    "- [1] Hadley Wickham, Garret Grolemund, R for data science, O'Reilly, 2016 (free copy at [www](http://r4ds.had.co.nz/))\n",
    "- [2] Hadley Wickham, Tidy data, The Journal of Statistical Software, vol. 59, 2014. (free downlaod at [www](https://www.jstatsoft.org/index.php/jss/article/view/v059i10/v59i10.pdf))\n",
    "- [3] William McKinney, Python for Data Analysis, O'Reilly, 2012 (free copy at [www](http://www3.canisius.edu/~yany/python/Python4DataAnalysis.pdf))\n",
    "- [4] Python Data Analysis Library ([www](http://pandas.pydata.org/))\n",
    "- [5] Official Pandas tutorial and cookbook ([www](http://pandas.pydata.org/pandas-docs/stable/tutorials.html))\n",
    "- [6] Yhat, pandasql: Make python speak SQL, [The Yhat Blog](http://blog.yhat.com/posts/pandasql-intro.html), 2016.\n",
    "- [7] Vik Paruchuri, Working with SQLite Databases using Python and Pandas, 2016 ([Blog](https://www.dataquest.io/blog/python-pandas-databases/))\n",
    "- [8] Karlijn Willems, Pandas Cheat Sheet: Data Science and Data Wrangling in Python, KDnuggets, 2017 ([Blog](http://www.kdnuggets.com/2017/01/pandas-cheat-sheet.html))\n",
    "- [9] Karlijn Willems, Pandas Tutorial: DataFrames in Python, datacamp, 2016 (free datacamp [minicourse](https://www.datacamp.com/community/tutorials/pandas-tutorial-dataframe-python/#gs.5amgiOc))"
   ]
  },
  {
   "cell_type": "code",
   "execution_count": null,
   "metadata": {
    "collapsed": true
   },
   "outputs": [],
   "source": []
  }
 ],
 "metadata": {
  "kernelspec": {
   "display_name": "Python 3",
   "language": "python",
   "name": "python3"
  },
  "language_info": {
   "codemirror_mode": {
    "name": "ipython",
    "version": 3
   },
   "file_extension": ".py",
   "mimetype": "text/x-python",
   "name": "python",
   "nbconvert_exporter": "python",
   "pygments_lexer": "ipython3",
   "version": "3.6.0"
  }
 },
 "nbformat": 4,
 "nbformat_minor": 2
}
