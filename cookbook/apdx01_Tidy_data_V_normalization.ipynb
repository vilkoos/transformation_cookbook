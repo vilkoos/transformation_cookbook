{
 "cells": [
  {
   "cell_type": "code",
   "execution_count": null,
   "metadata": {
    "collapsed": true
   },
   "outputs": [],
   "source": []
  },
  {
   "cell_type": "markdown",
   "metadata": {},
   "source": [
    "The transformation step starts with one ore more tidy tables.   \n",
    "Tidy [2] means that we work with quality data (i.e. there are no data-problems hidden in our tables).   \n",
    "More specific:\n",
    "\n",
    " - all rows in a table represent cases of the same type (e.g. each row in the cars table represents a car)\n",
    " - each row in the table represents an unique observed case (there are no duplicates, e.g. one car only has one row)\n",
    " - each column in the table only contains values of the same type  \n",
    " (e.g a brithdate column contains only dates, all these are in the same format) **Note** missing values are allowed  \n",
    " - each column in the table contains values that have the same semantics   \n",
    " (e.g all the dates are birthdates, you may not put enrollment dates in this column) \n",
    " - If missing values occur then they are marked with a single value (e.g. either None, or Nan or NA etc, but only one of these)\n",
    " - if we work with more than one table, then there is a way to relate the rows in the different tables to each other."
   ]
  },
  {
   "cell_type": "code",
   "execution_count": null,
   "metadata": {
    "collapsed": true
   },
   "outputs": [],
   "source": []
  }
 ],
 "metadata": {
  "kernelspec": {
   "display_name": "Python 3",
   "language": "python",
   "name": "python3"
  },
  "language_info": {
   "codemirror_mode": {
    "name": "ipython",
    "version": 3
   },
   "file_extension": ".py",
   "mimetype": "text/x-python",
   "name": "python",
   "nbconvert_exporter": "python",
   "pygments_lexer": "ipython3",
   "version": "3.6.0"
  }
 },
 "nbformat": 4,
 "nbformat_minor": 2
}
